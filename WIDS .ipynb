{
 "cells": [
  {
   "cell_type": "markdown",
   "metadata": {
    "id": "RksWtNuHg9Rb"
   },
   "source": [
    "# Assignment\n",
    "*  In this assignment, we will build a classifier for MNIST from scratch using just [NumPy](https://numpy.org/)\n",
    "\n",
    "*  [MNIST](http://yann.lecun.com/exdb/mnist/) dataset contains images of handwritten digits of size 28x28\n",
    "\n",
    "*  The dataset that you are expected to use for training is already uploaded along\n",
    "\n",
    "*   Our model will have 1 hidden layer, like the one below (not our recommendation to use 256 in the hidden layer though, try various values out)\n",
    "\n",
    "**Feel free to redefine any function signatures below, just make sure the final cell remains the same.**\n",
    "\n",
    "<center>\n",
    "<img src=\"https://user-images.githubusercontent.com/81357954/166119893-4ca347b8-b1a4-40b8-9e0a-2e92b5f164ae.png\">\n",
    "</center>"
   ]
  },
  {
   "cell_type": "markdown",
   "metadata": {
    "id": "UyOAG55siwdI"
   },
   "source": [
    "## Import libraries here\n",
    "NumPy, Matplotlib, ...\n",
    "\n",
    "Also remember to initialize the seed for reproducibility of results"
   ]
  },
  {
   "cell_type": "code",
   "execution_count": 1,
   "metadata": {
    "id": "7iVUsRLxjAb9"
   },
   "outputs": [],
   "source": [
    "import pickle\n",
    "import numpy as np\n",
    "from sklearn.model_selection import train_test_split\n",
    "import matplotlib.pyplot as plt\n",
    "import math\n",
    "import random"
   ]
  },
  {
   "cell_type": "markdown",
   "metadata": {
    "id": "HaLDC4wN0eQs"
   },
   "source": [
    "## Load *Dataset*\n",
    "Load data from the given pickle file"
   ]
  },
  {
   "cell_type": "code",
   "execution_count": 2,
   "metadata": {
    "id": "6qOjNSmx0iUn"
   },
   "outputs": [
    {
     "name": "stdout",
     "output_type": "stream",
     "text": [
      "(60000, 784)\n",
      "(60000, 1)\n"
     ]
    }
   ],
   "source": [
    "\n",
    "data_file=\"MNIST_data.pkl\"\n",
    "# load the data set\n",
    "with open(data_file,'rb') as infile:\n",
    "    train_dataset = pickle.load(infile)\n",
    "X = train_dataset['X']\n",
    "y = train_dataset['y']\n",
    "\n",
    "# normalize\n",
    "X=X.transpose()\n",
    "for i in range(0,784,1):\n",
    "    l=X[i]\n",
    "    if(np.var(l)==0):\n",
    "        X[i]=np.zeros(60000)\n",
    "        continue\n",
    "    l=(l-np.mean(l))/(math.sqrt(np.var(l))+0.00001)\n",
    "    X[i]=l\n",
    "X=X.transpose()\n",
    "print(X.shape)\n",
    "print(y.shape)\n",
    "# Split into X_train, y_train, X_test, y_test\n",
    "# you can use stratified splitting from sklearn library\n",
    "\n",
    "X_train, X_test, y_train, y_test = train_test_split(X, y,stratify=y,test_size=0.5)                                           \n",
    "\n"
   ]
  },
  {
   "cell_type": "code",
   "execution_count": 3,
   "metadata": {},
   "outputs": [
    {
     "name": "stdout",
     "output_type": "stream",
     "text": [
      "[6]\n",
      "[9]\n",
      "[8]\n",
      "[1]\n",
      "[0]\n",
      "[5]\n",
      "[7]\n",
      "[0]\n",
      "[4]\n",
      "[2]\n",
      "[5]\n",
      "[0]\n",
      "[5]\n",
      "[7]\n",
      "[4]\n",
      "[8]\n",
      "[9]\n",
      "[9]\n",
      "[5]\n",
      "[0]\n",
      "[3]\n",
      "[8]\n",
      "[3]\n",
      "[7]\n",
      "[7]\n",
      "[9]\n",
      "[3]\n",
      "[4]\n",
      "[0]\n",
      "[6]\n",
      "[7]\n",
      "[9]\n",
      "[1]\n",
      "[4]\n",
      "[2]\n",
      "[6]\n",
      "[7]\n",
      "[3]\n",
      "[5]\n",
      "[2]\n"
     ]
    }
   ],
   "source": [
    "i=0\n",
    "for i in range(0,40):print(y[i])"
   ]
  },
  {
   "cell_type": "code",
   "execution_count": 4,
   "metadata": {
    "id": "id77Oqc90kTf",
    "scrolled": true
   },
   "outputs": [
    {
     "data": {
      "image/png": "[encoded data removed]",
      "text/plain": [
       "<Figure size 640x480 with 4 Axes>"
      ]
     },
     "metadata": {},
     "output_type": "display_data"
    },
    {
     "name": "stdout",
     "output_type": "stream",
     "text": [
      "          17754          21306            11155            7440\n"
     ]
    },
    {
     "data": {
      "image/png": "[encoded data removed]",
      "text/plain": [
       "<Figure size 640x480 with 4 Axes>"
      ]
     },
     "metadata": {},
     "output_type": "display_data"
    },
    {
     "name": "stdout",
     "output_type": "stream",
     "text": [
      "          13007          4753            7777            858\n"
     ]
    },
    {
     "data": {
      "image/png": "[encoded data removed]",
      "text/plain": [
       "<Figure size 640x480 with 4 Axes>"
      ]
     },
     "metadata": {},
     "output_type": "display_data"
    },
    {
     "name": "stdout",
     "output_type": "stream",
     "text": [
      "          22187          27708            997            17168\n"
     ]
    },
    {
     "data": {
      "image/png": "[encoded data removed]",
      "text/plain": [
       "<Figure size 640x480 with 4 Axes>"
      ]
     },
     "metadata": {},
     "output_type": "display_data"
    },
    {
     "name": "stdout",
     "output_type": "stream",
     "text": [
      "          4444          12693            5081            9668\n"
     ]
    }
   ],
   "source": [
    "# display a 4x4 grid, \n",
    "# choose 16 images randomly, display the images as well as corresponding labels\n",
    "a=np.arange(0,16)\n",
    "for i in range(0,16):\n",
    "    if(i%4==0):f, axis = plt.subplots(1, 4)\n",
    "    a[i]=random.randint(0,30000)\n",
    "    b=X_train[a[i]]\n",
    "    axis[i%4].imshow(b.reshape(28,28))\n",
    "    if(i%4==3):\n",
    "        plt.show()\n",
    "        print(\"         \",a[i-3],\"        \",a[i-2],\"          \",a[i-1],\"          \",a[i])\n",
    "    "
   ]
  },
  {
   "cell_type": "markdown",
   "metadata": {
    "id": "VFYnsPVLmsiW"
   },
   "source": [
    "## Building up parts of our classifier"
   ]
  },
  {
   "cell_type": "markdown",
   "metadata": {
    "id": "wAsGtgxUpGh2"
   },
   "source": [
    "**Activation functions**"
   ]
  },
  {
   "cell_type": "code",
   "execution_count": 5,
   "metadata": {
    "id": "6Di5Ck47msCQ"
   },
   "outputs": [],
   "source": [
    "def relu(z):\n",
    "    \"\"\"\n",
    "    Arguments:\n",
    "    z -- A scalar or numpy array.\n",
    "    Return:\n",
    "    relu func applied to each element of z\n",
    "    \"\"\"\n",
    "    p,q=z.shape\n",
    "    for i in range(p-1):\n",
    "        for j in range(q-1):\n",
    "            z[i][j]=max(0,z[i][j])\n",
    "    return z\n",
    "\n",
    "def softmax(z):\n",
    "    \"\"\"\n",
    "    returns computed probabilitites for each element in batch separately\n",
    "    input: (N, 10)\n",
    "    output: (N, 10)\n",
    "    \"\"\"\n",
    "    reduced=z-np.max(z,axis=1,keepdims=True)\n",
    "    exped=np.exp(reduced)\n",
    "    den=np.sum(exped,axis=1,keepdims=True)\n",
    "    \n",
    "    return exped/den\n",
    "\n"
   ]
  },
  {
   "cell_type": "markdown",
   "metadata": {
    "id": "G-q5HJHIocdn"
   },
   "source": [
    "**Notes about the Neural Network** \n",
    "*   Input size is (784,) because 28x28 = 784\n",
    "*   Output size will be 10, each element represeting probability of the image representing that digit\n",
    "*   Size of the hidden layer is a hyperparameter\n",
    "\n"
   ]
  },
  {
   "cell_type": "markdown",
   "metadata": {
    "id": "azTAuS5spFcz"
   },
   "source": [
    "**Initialize the layers weights**\n",
    "\n",
    "Generally, we follow the convention that weights are drawn from a standard normal distribution, while the bias vectors are initialized to zero. But you can try everything out :)"
   ]
  },
  {
   "cell_type": "code",
   "execution_count": 12,
   "metadata": {
    "id": "38E3_hVPocMm"
   },
   "outputs": [],
   "source": [
    "def init_params(layer_1, hidden_layer, layer_2):\n",
    "    \"\"\"\n",
    "    ideally it should take the size of all the layers and \n",
    "    should return the initialized weights.\n",
    "    \"\"\"\n",
    "    N=30000\n",
    "    w1=0.0001*np.random.randint(1000, size=(layer_1,hidden_layer))\n",
    "    w2=0.0001*np.random.randint(1000, size=(hidden_layer,layer_2))\n",
    "    #for i in (0,784,1):\n",
    "    #    for j in (0,256,1):\n",
    "    #        w1[i,j]=0.001*random.randint(0,1000)\n",
    "    #for i in (hidden_layer):\n",
    "    #    for j in (layer_2):\n",
    "    #        w2[i][j]=0.001*random.randint(0,1000)\n",
    "    b1=np.zeros((256,1))\n",
    "    b2=np.zeros((10,1))\n",
    "    w1,b1,w2,b2\n",
    "    return w1,b1,w2,b2\n",
    "    #y_hat=np.matmul(w,x)+b"
   ]
  },
  {
   "cell_type": "markdown",
   "metadata": {
    "id": "UlX8zy-7pv2n"
   },
   "source": [
    "**Forward Propagation**"
   ]
  },
  {
   "cell_type": "code",
   "execution_count": 13,
   "metadata": {
    "id": "TJ8lgrqjjASz"
   },
   "outputs": [],
   "source": [
    "def forward_propg(X, w1, w2, b1, b2):\n",
    "    \"\"\"\n",
    "    X: input data\n",
    "    returns: logits, output of each layer z1,z2,a1,a2\n",
    "    \"\"\"\n",
    "    #here X will be X train and its dimensions are N*784, dimensions of w1 are 784*256, dimensions of b1 are N*1\n",
    "    #then dimensions of z1 are N*256 and z2 are N*10. w2 will have 256*10 and z1*w2 will have N*10. \n",
    "    z1=np.matmul(X,w1)\n",
    "    z1=z1.transpose()\n",
    "    for i in range (0,256,1):\n",
    "        z1[i]=z1[i]+b1[i]\n",
    "    z1=z1.transpose()\n",
    "    a1=relu(z1)\n",
    "    z2=np.matmul(a1,w2)\n",
    "    z2=z2.transpose()\n",
    "    for i in range (0,10,1):\n",
    "        z2[i]=z2[i]+b2[i]\n",
    "    z2=z2.transpose()\n",
    "\n",
    "    #print(z2)\n",
    "    a2=softmax(z2)\n",
    "    #print(a2)\n",
    "    return z1, z2, a1, a2\n",
    "    "
   ]
  },
  {
   "cell_type": "markdown",
   "metadata": {
    "id": "asZmbRVvuy5x"
   },
   "source": [
    "**Backward Propagation**\n",
    "\n",
    "\n",
    "You may use stochastic gradient descent or batch gradient descent here. Feel free to use any loss function."
   ]
  },
  {
   "cell_type": "code",
   "execution_count": 14,
   "metadata": {
    "id": "kAmrTAlimjUN"
   },
   "outputs": [],
   "source": [
    "def backward_propg(w1, b1, w2, b2, X, y, z1, z2, a1, a2,lr ):#\"\"\"output of forward propg\"\"\"\n",
    "    \"\"\"\n",
    "    should update the weights and return updated weights\n",
    "    \"\"\"\n",
    "    N=30000\n",
    "    l=np.zeros((30000,))\n",
    "    for i in range(30000):\n",
    "        l[i]=-math.log(a2[i][y[i]]+1e-4)\n",
    "    L=np.mean(l)\n",
    "    del_L_z2=np.divide(a2,N)\n",
    "    for i in range(0,30000,1):\n",
    "        del_L_z2[i][y[i]]-=1/N\n",
    "    del_L_w2=np.matmul(a1.transpose(),del_L_z2)\n",
    "    del_L_a1=np.matmul(del_L_z2,w2.transpose())\n",
    "    \n",
    "    \n",
    "    #dimensions of z2 are N,10 and that of b2 are N,1\n",
    "    #print(del_L_z2.shape)\n",
    "    del_L_b2=np.zeros((10,1))\n",
    "    \n",
    "    del_L_z2=del_L_z2.transpose()\n",
    "    for i in range (0,10,1):\n",
    "        t=del_L_z2[i]\n",
    "        del_L_b2=np.sum(t)\n",
    "    del_L_z2=del_L_z2.transpose()\n",
    "    #a1=relu(z1)\n",
    "    #del by z1=del by a1 (where a1[i][j]>0)\n",
    "    \n",
    "    m,n=a1.shape\n",
    "    del_L_z1=np.zeros((m,n))\n",
    "    for i in range(m):\n",
    "        for j in range(n):\n",
    "            if(a1[i][j]>0):del_L_z1[i][j]=del_L_a1[i][j]\n",
    "    \n",
    "    \n",
    "    del_L_b1=np.zeros((256,1))\n",
    "    del_L_z1=del_L_z1.transpose()\n",
    "    for i in range (0,256,1):\n",
    "        t=del_L_z1[i]\n",
    "        del_L_b1=np.sum(t)\n",
    "    del_L_z1=del_L_z1.transpose()\n",
    "        \n",
    "    del_L_w1=np.matmul(X.transpose(),del_L_z1)\n",
    "    #print(del_L_w1.shape)\n",
    "    #doubt in del_by_b1 and del_by_b2\n",
    "    \n",
    "    #updates\n",
    "    w1=w1 - lr*del_L_w1\n",
    "    w2=w2 - lr*del_L_w2\n",
    "    #print(b1.shape)\n",
    "    #print(del_L_b1.shape)\n",
    "    b1=b1 - lr*(del_L_b1)\n",
    "    b2=b2 - lr*(del_L_b2)\n",
    "    return w1,b1,w2,b2,L"
   ]
  },
  {
   "cell_type": "code",
   "execution_count": 15,
   "metadata": {
    "id": "cVDz0IGnvzpe"
   },
   "outputs": [],
   "source": [
    "def cost_func(weight,y,params):\n",
    "    \"\"\"\n",
    "    calculate loss to check whether it is decreasing at each epoch or not\n",
    "    one can return this in backward propagation as well\n",
    "    \"\"\"\n",
    "    \n",
    "    pass"
   ]
  },
  {
   "cell_type": "markdown",
   "metadata": {
    "id": "GUlhpcs9ylOX"
   },
   "source": [
    "\n",
    "## Integrate everything"
   ]
  },
  {
   "cell_type": "code",
   "execution_count": 16,
   "metadata": {
    "id": "SDGdT7PVmjRU"
   },
   "outputs": [],
   "source": [
    "def train(X, y, hidden_nodes, epochs=1000, lr=1e-5):\n",
    "    \"\"\"\n",
    "    hidden_nodes: no. of nodes in hidden layer\n",
    "\n",
    "    should return the updated optimize weights.\n",
    "    \"\"\"\n",
    "    layer_1=784\n",
    "    hidden_layer=256\n",
    "    layer_2=10\n",
    "    # initialize weights.\n",
    "    \n",
    "    w1,b1,w2,b2=init_params(layer_1,hidden_layer,layer_2)\n",
    "    \n",
    "    for i in range(epochs):\n",
    "        #print(w1)\n",
    "        # forward propagation\n",
    "        z1,z2,a1,a2=forward_propg(X, w1, w2, b1, b2)\n",
    "        \n",
    "        # print cost at every 100 or so iterations\n",
    "        \n",
    "        # backward propagation\n",
    "        w1,b1,w2,b2,L=backward_propg(w1, b1, w2, b2, X, y, z1, z2, a1, a2,lr )\n",
    "        print(i,\"  \",L)\n",
    "    return w1,b1,w2,b2,L"
   ]
  },
  {
   "cell_type": "code",
   "execution_count": null,
   "metadata": {},
   "outputs": [
    {
     "name": "stdout",
     "output_type": "stream",
     "text": [
      "0    8.184210960364908\n",
      "1    7.929050691901483\n",
      "2    8.165780337529894\n",
      "3    8.143876517818162\n",
      "4    8.176835648802793\n",
      "5    7.661818692461946\n",
      "6    7.5398818250858675\n",
      "7    7.560213843301469\n",
      "8    7.4366340673892966\n",
      "9    7.2081817277277604\n",
      "10    7.478072829012901\n",
      "11    7.598814157208428\n",
      "12    7.569414965355669\n",
      "13    6.783114062003761\n",
      "14    7.013193243864374\n",
      "15    7.606540982234792\n",
      "16    7.395094705808116\n",
      "17    6.6754301132852785\n",
      "18    7.414595836459983\n",
      "19    7.494920514937616\n",
      "20    6.747437041937537\n",
      "21    6.842176605872788\n",
      "22    7.156630427347073\n",
      "23    7.1265103962125975\n",
      "24    6.773673484701577\n",
      "25    7.045943070950193\n",
      "26    6.756798598438519\n",
      "27    6.967775461090776\n",
      "28    6.85985826406169\n",
      "29    7.01145019118327\n",
      "30    6.935467546479453\n",
      "31    6.757557636782471\n",
      "32    6.9292442029627015\n",
      "33    6.443892361561022\n",
      "34    6.472622902665685\n",
      "35    6.885726727254183\n",
      "36    6.730826082115064\n",
      "37    7.008013391441528\n",
      "38    6.778758740605528\n",
      "39    6.744747571572085\n",
      "40    6.597294978531659\n",
      "41    6.833585631264994\n",
      "42    7.026033664759291\n",
      "43    6.9247985734192\n",
      "44    6.456321963428425\n",
      "45    6.520078983786258\n",
      "46    6.539183130978972\n",
      "47    7.2579377091564\n",
      "48    6.051231212909471\n",
      "49    6.409806596698483\n",
      "50    6.930515600415466\n",
      "51    6.3149217681098975\n",
      "52    7.105144613993541\n",
      "53    6.760695017211862\n",
      "54    6.442843924244365\n",
      "55    6.471503149241731\n",
      "56    6.485991618272971\n",
      "57    6.67741549078527\n",
      "58    6.7259477433750545\n",
      "59    6.790194458671837\n",
      "60    6.891622512262246\n",
      "61    6.081583044428645\n",
      "62    6.626264244979588\n",
      "63    7.031909887659565\n",
      "64    6.826159341481392\n",
      "65    6.434589792619316\n",
      "66    6.758716324350831\n",
      "67    6.893751138151508\n",
      "68    6.698580140665316\n",
      "69    6.475798500884064\n",
      "70    6.39494577790159\n",
      "71    6.06773505939062\n",
      "72    6.346520020206568\n",
      "73    6.623072894929016\n",
      "74    5.667899442861353\n",
      "75    5.679171474770704\n",
      "76    6.218890895213955\n",
      "77    6.360338521527792\n",
      "78    6.387575305805218\n",
      "79    6.560439326760177\n",
      "80    6.533483388635331\n",
      "81    6.252926481370799\n",
      "82    6.575676395868068\n",
      "83    6.499686014631981\n",
      "84    5.692546259768521\n",
      "85    6.797812022708485\n",
      "86    5.70381228383621\n",
      "87    6.178863768809568\n",
      "88    6.43050122680153\n",
      "89    6.362575798336288\n",
      "90    6.723686241019263\n",
      "91    6.835721010377587\n",
      "92    5.786075507895883\n",
      "93    6.027381558275153\n",
      "94    6.037924719932825\n",
      "95    6.383057350653609\n",
      "96    6.526887968131918\n",
      "97    6.387663076512734\n",
      "98    6.388940938435704\n",
      "99    6.238420452955664\n",
      "100    6.796427234951372\n",
      "101    6.136686274597493\n",
      "102    6.25364342193808\n",
      "103    6.3004374956521225\n",
      "104    5.614600297488313\n",
      "105    5.5584457354698875\n",
      "106    6.440365431538858\n",
      "107    5.634242715731772\n",
      "108    6.350386452015602\n",
      "109    6.216373805643763\n",
      "110    6.053803613036205\n",
      "111    5.805595007899759\n",
      "112    6.095694929655156\n",
      "113    6.181146489212829\n",
      "114    6.436830247187072\n",
      "115    6.314454186453877\n",
      "116    6.000128394524885\n",
      "117    5.82119341528568\n",
      "118    5.82380907441585\n",
      "119    6.021689834754057\n",
      "120    6.185761665018258\n",
      "121    5.663420701115134\n",
      "122    6.548997208036672\n",
      "123    5.575989195349468\n",
      "124    5.893176005976507\n",
      "125    6.2056738806014105\n",
      "126    6.113915314076222\n",
      "127    6.081245123804991\n",
      "128    6.284561240124232\n",
      "129    5.713665213726772\n",
      "130    6.266549179044263\n",
      "131    6.170352554587397\n",
      "132    6.038464292010645\n",
      "133    5.232375556160163\n",
      "134    5.529649797117275\n",
      "135    5.822224113543733\n",
      "136    6.363490166312923\n",
      "137    5.913810314286537\n",
      "138    6.087386534582206\n",
      "139    5.7274139694632025\n",
      "140    6.159856104838342\n",
      "141    5.4072502824749\n",
      "142    6.214918306249921\n",
      "143    5.867788127891276\n",
      "144    6.267155799444483\n",
      "145    5.789939885594506\n",
      "146    5.807403443122283\n",
      "147    6.126309563277085\n",
      "148    5.850503263850039\n"
     ]
    }
   ],
   "source": [
    "fw1,fb1,fw2,fb2,fL=train(X_train,y_train,256,1000,1e-5)"
   ]
  },
  {
   "cell_type": "code",
   "execution_count": 48,
   "metadata": {
    "id": "9XBinWpPmjOS"
   },
   "outputs": [],
   "source": [
    "def predict(X, w1,b1,w2,b2):\n",
    "    \"\"\"\n",
    "    returns the prediction in [0,9] for each element in X\n",
    "    \"\"\"\n",
    "    z1=np.matmul(X,w1)\n",
    "    z1=z1.transpose()\n",
    "    for i in range (0,256,1):\n",
    "        z1[i]=z1[i]+b1[i]\n",
    "    z1=z1.transpose()\n",
    "    a1=relu(z1)\n",
    "    z2=np.matmul(a1,w2)\n",
    "    z2=z2.transpose()\n",
    "    for i in range (0,10,1):\n",
    "        z2[i]=z2[i]+b2[i]\n",
    "    z2=z2.transpose()\n",
    "    #print(z2)\n",
    "    a2=softmax(z2)\n",
    "    y_predict=np.zeros((30000,1))\n",
    "    for i in range(0,30000,1):\n",
    "        j=a2.argmax()\n",
    "        y_predict[i][0]=j\n",
    "    return y_predict"
   ]
  },
  {
   "cell_type": "code",
   "execution_count": 49,
   "metadata": {
    "id": "CtKSZWw71wc4"
   },
   "outputs": [],
   "source": [
    "def accuracy(y_predict, y):\n",
    "    \"\"\"\n",
    "    prints % accuracy\n",
    "    \"\"\"\n",
    "    t=0\n",
    "    for i in range(0,30000):\n",
    "        if(y_predict[i]==y[i]):t+=1\n",
    "    return t/300    "
   ]
  },
  {
   "cell_type": "code",
   "execution_count": 50,
   "metadata": {},
   "outputs": [],
   "source": [
    "y_predict=predict(X_test,w1,b1,w2,b2)"
   ]
  },
  {
   "cell_type": "code",
   "execution_count": 52,
   "metadata": {},
   "outputs": [],
   "source": [
    "acc=accuracy(y_predict,y_test)\n",
    "print(acc)"
   ]
  },
  {
   "cell_type": "markdown",
   "metadata": {
    "id": "fGVOZ8yg0VrV"
   },
   "source": [
    "### Save as pickle"
   ]
  },
  {
   "cell_type": "code",
   "execution_count": null,
   "metadata": {
    "colab": {
     "base_uri": "https://localhost:8080/",
     "height": 17
    },
    "id": "_lvDVwmxmjKX",
    "outputId": "02467c3f-b20f-44b7-8e3d-43e308028d17"
   },
   "outputs": [],
   "source": [
    "import pickle\n",
    "import random\n",
    "\n",
    "roll_num = \"22b0396\" # enter ldap\n",
    "hidden_dim = # replace with your own hidden dimension\n",
    "\n",
    "model_dict = {\n",
    "    'z': hidden_dim, # hidden dimension of your model\n",
    "    'layer_0_wt': pass, # layer 0 weight (784, z)\n",
    "    'layer_0_bias': pass, # layer 0 bias (z, 1)\n",
    "    'layer_1_wt': pass, # layer 1 weight (z, 10)\n",
    "    'layer_1_bias': pass # layer 1 bias (10, 1)\n",
    "}\n",
    "\n",
    "assert model_dict['layer_0_wt'].shape == (784, hidden_dim)\n",
    "assert model_dict['layer_0_bias'].shape == (hidden_dim, 1)\n",
    "assert model_dict['layer_1_wt'].shape == (hidden_dim, 10)\n",
    "assert model_dict['layer_1_bias'].shape == (10, 1)\n",
    "\n",
    "with open(f'model_{roll_num}.pkl', 'wb') as f:\n",
    "    pickle.dump(model_dict, f)"
   ]
  }
 ],
 "metadata": {
  "colab": {
   "collapsed_sections": [],
   "name": "Assignment1_Problem_Statement.ipynb",
   "provenance": []
  },
  "kernelspec": {
   "display_name": "Python 3 (ipykernel)",
   "language": "python",
   "name": "python3"
  },
  "language_info": {
   "codemirror_mode": {
    "name": "ipython",
    "version": 3
   },
   "file_extension": ".py",
   "mimetype": "text/x-python",
   "name": "python",
   "nbconvert_exporter": "python",
   "pygments_lexer": "ipython3",
   "version": "3.11.1"
  },
  "vscode": {
   "interpreter": {
    "hash": "e7370f93d1d0cde622a1f8e1c04877d8463912d04d973331ad4851f04de6915a"
   }
  }
 },
 "nbformat": 4,
 "nbformat_minor": 1
}
